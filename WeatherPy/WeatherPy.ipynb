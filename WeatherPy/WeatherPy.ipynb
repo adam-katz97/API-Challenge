{
 "cells": [
  {
   "cell_type": "markdown",
   "metadata": {},
   "source": [
    "# WeatherPy\n",
    "----\n",
    "\n",
    "#### Note\n",
    "* Instructions have been included for each segment. You do not have to follow them exactly, but they are included to help you think through the steps."
   ]
  },
  {
   "cell_type": "code",
   "execution_count": 20,
   "metadata": {
    "scrolled": true
   },
   "outputs": [],
   "source": [
    "# Dependencies and Setup\n",
    "import matplotlib.pyplot as plt\n",
    "from scipy.stats import linregress\n",
    "import pandas as pd\n",
    "import numpy as np\n",
    "import requests\n",
    "import json\n",
    "from citipy import citipy\n",
    "from api_keys import weather_api_key\n",
    "import os"
   ]
  },
  {
   "cell_type": "markdown",
   "metadata": {},
   "source": [
    "## Generate Cities List"
   ]
  },
  {
   "cell_type": "code",
   "execution_count": 2,
   "metadata": {},
   "outputs": [],
   "source": [
    "x_axis=np.random.randint(-90, 90, size=10000)\n",
    "y_axis=np.random.randint(-180, 180, size=10000)\n",
    "\n",
    "\n",
    "cities=[]\n",
    "names=[]\n",
    "coordinates=[]\n",
    "for i in range(10000):\n",
    "    coordinates.append((x_axis[i], y_axis[i]))\n",
    "    city=citipy.nearest_city(x_axis[i], y_axis[i])\n",
    "    country_code = city.country_code\n",
    "    naming = city.city_name\n",
    "    names.append(naming)\n",
    "    name_series=pd.Series(names)\n",
    "    if len(name_series.unique())==600:\n",
    "        break\n"
   ]
  },
  {
   "cell_type": "code",
   "execution_count": 3,
   "metadata": {},
   "outputs": [],
   "source": [
    "name_series=name_series.drop_duplicates()\n",
    "name_series=name_series.reset_index(drop=True)\n"
   ]
  },
  {
   "cell_type": "markdown",
   "metadata": {},
   "source": [
    "### Perform API Calls\n",
    "* Perform a weather check on each city using a series of successive API calls.\n",
    "* Include a print log of each city as it'sbeing processed (with the city number and city name).\n"
   ]
  },
  {
   "cell_type": "code",
   "execution_count": 4,
   "metadata": {
    "scrolled": true
   },
   "outputs": [
    {
     "name": "stdout",
     "output_type": "stream",
     "text": [
      "Processing city: 0 of 600: manzil salim\n",
      "Processing city: 1 of 600: kapaa\n",
      "Processing city: 2 of 600: airai\n",
      "Processing city: 3 of 600: ushuaia\n",
      "Processing city: 4 of 600: souillac\n",
      "Processing city: 5 of 600: sabang\n",
      "Processing city: 6 of 600: georgetown\n",
      "Processing city: 7 of 600: kazalinsk\n",
      "city could not be processed\n",
      "Processing city: 8 of 600: itarema\n",
      "Processing city: 9 of 600: illoqqortoormiut\n",
      "city could not be processed\n",
      "Processing city: 10 of 600: arraial do cabo\n",
      "Processing city: 11 of 600: chuy\n",
      "Processing city: 12 of 600: avarua\n",
      "Processing city: 13 of 600: mataura\n",
      "Processing city: 14 of 600: sovetskiy\n",
      "Processing city: 15 of 600: albany\n",
      "Processing city: 16 of 600: rostaq\n",
      "city could not be processed\n",
      "Processing city: 17 of 600: coihaique\n",
      "Processing city: 18 of 600: luderitz\n",
      "Processing city: 19 of 600: taolanaro\n",
      "city could not be processed\n",
      "Processing city: 20 of 600: matara\n",
      "Processing city: 21 of 600: seoul\n",
      "Processing city: 22 of 600: poronaysk\n",
      "Processing city: 23 of 600: bilma\n",
      "Processing city: 24 of 600: agidel\n",
      "Processing city: 25 of 600: hobart\n",
      "Processing city: 26 of 600: saint-philippe\n",
      "Processing city: 27 of 600: kearney\n",
      "Processing city: 28 of 600: verona\n",
      "Processing city: 29 of 600: shasta lake\n",
      "Processing city: 30 of 600: ilulissat\n",
      "Processing city: 31 of 600: bethel\n",
      "Processing city: 32 of 600: saint anthony\n",
      "Processing city: 33 of 600: bolungarvik\n",
      "city could not be processed\n",
      "Processing city: 34 of 600: broken hill\n",
      "Processing city: 35 of 600: butaritari\n",
      "Processing city: 36 of 600: bredasdorp\n",
      "Processing city: 37 of 600: luebo\n",
      "Processing city: 38 of 600: longyearbyen\n",
      "Processing city: 39 of 600: east london\n",
      "Processing city: 40 of 600: port alfred\n",
      "Processing city: 41 of 600: fortuna\n",
      "Processing city: 42 of 600: tommot\n",
      "Processing city: 43 of 600: richards bay\n",
      "Processing city: 44 of 600: port elizabeth\n",
      "Processing city: 45 of 600: rikitea\n",
      "Processing city: 46 of 600: los llanos de aridane\n",
      "Processing city: 47 of 600: lagoa\n",
      "Processing city: 48 of 600: hilo\n",
      "Processing city: 49 of 600: vanavara\n",
      "Processing city: 50 of 600: novaya igirma\n",
      "Processing city: 51 of 600: vaitupu\n",
      "city could not be processed\n",
      "Processing city: 52 of 600: bluff\n",
      "Processing city: 53 of 600: north bend\n",
      "Processing city: 54 of 600: strelka\n",
      "Processing city: 55 of 600: brownsville\n",
      "Processing city: 56 of 600: copiapo\n",
      "Processing city: 57 of 600: noumea\n",
      "Processing city: 58 of 600: punalur\n",
      "Processing city: 59 of 600: tura\n",
      "Processing city: 60 of 600: soyo\n",
      "Processing city: 61 of 600: ponta do sol\n",
      "Processing city: 62 of 600: videira\n",
      "Processing city: 63 of 600: muros\n",
      "Processing city: 64 of 600: ilovlya\n",
      "Processing city: 65 of 600: sayyan\n",
      "Processing city: 66 of 600: provideniya\n",
      "Processing city: 67 of 600: shaartuz\n",
      "city could not be processed\n",
      "Processing city: 68 of 600: jamestown\n",
      "Processing city: 69 of 600: kuusamo\n",
      "Processing city: 70 of 600: vaini\n",
      "Processing city: 71 of 600: srednekolymsk\n",
      "Processing city: 72 of 600: kirakira\n",
      "Processing city: 73 of 600: cidreira\n",
      "Processing city: 74 of 600: arrifes\n",
      "Processing city: 75 of 600: galveston\n",
      "Processing city: 76 of 600: limon\n",
      "Processing city: 77 of 600: hofn\n",
      "Processing city: 78 of 600: valparaiso\n",
      "Processing city: 79 of 600: cape town\n",
      "Processing city: 80 of 600: puerto ayora\n",
      "Processing city: 81 of 600: mar del plata\n",
      "Processing city: 82 of 600: tasiilaq\n",
      "Processing city: 83 of 600: lebu\n",
      "Processing city: 84 of 600: burgeo\n",
      "Processing city: 85 of 600: ambon\n",
      "Processing city: 86 of 600: vikhorevka\n",
      "Processing city: 87 of 600: san cristobal\n",
      "Processing city: 88 of 600: khatanga\n",
      "Processing city: 89 of 600: rio gallegos\n",
      "Processing city: 90 of 600: new norfolk\n",
      "Processing city: 91 of 600: barrow\n",
      "Processing city: 92 of 600: tsihombe\n",
      "city could not be processed\n",
      "Processing city: 93 of 600: sibolga\n",
      "Processing city: 94 of 600: vestmannaeyjar\n",
      "Processing city: 95 of 600: haibowan\n",
      "city could not be processed\n",
      "Processing city: 96 of 600: severo-kurilsk\n",
      "Processing city: 97 of 600: bure\n",
      "Processing city: 98 of 600: hithadhoo\n",
      "Processing city: 99 of 600: mehriz\n",
      "Processing city: 100 of 600: mitsamiouli\n",
      "Processing city: 101 of 600: fuxin\n",
      "Processing city: 102 of 600: nizhneyansk\n",
      "city could not be processed\n",
      "Processing city: 103 of 600: thompson\n",
      "Processing city: 104 of 600: buchanan\n",
      "Processing city: 105 of 600: moron\n",
      "Processing city: 106 of 600: barentsburg\n",
      "city could not be processed\n",
      "Processing city: 107 of 600: iqaluit\n",
      "Processing city: 108 of 600: tuktoyaktuk\n",
      "Processing city: 109 of 600: saldanha\n",
      "Processing city: 110 of 600: narsaq\n",
      "Processing city: 111 of 600: benjamin constant\n",
      "Processing city: 112 of 600: chokurdakh\n",
      "Processing city: 113 of 600: saskylakh\n",
      "Processing city: 114 of 600: linhai\n",
      "Processing city: 115 of 600: salamanca\n",
      "Processing city: 116 of 600: tessalit\n",
      "Processing city: 117 of 600: lolua\n",
      "city could not be processed\n",
      "Processing city: 118 of 600: vilhena\n",
      "Processing city: 119 of 600: boras\n",
      "Processing city: 120 of 600: krasnoselkup\n",
      "Processing city: 121 of 600: hasaki\n",
      "Processing city: 122 of 600: yellowknife\n",
      "Processing city: 123 of 600: mareeba\n",
      "Processing city: 124 of 600: harqalah\n",
      "Processing city: 125 of 600: atuona\n",
      "Processing city: 126 of 600: busselton\n",
      "Processing city: 127 of 600: ulaanbaatar\n",
      "Processing city: 128 of 600: saleaula\n",
      "city could not be processed\n",
      "Processing city: 129 of 600: tezu\n",
      "Processing city: 130 of 600: caravelas\n",
      "Processing city: 131 of 600: izazi\n",
      "Processing city: 132 of 600: kiunga\n",
      "Processing city: 133 of 600: acarau\n",
      "Processing city: 134 of 600: tuatapere\n",
      "Processing city: 135 of 600: tiksi\n",
      "Processing city: 136 of 600: dickinson\n",
      "Processing city: 137 of 600: kodiak\n",
      "Processing city: 138 of 600: la gomera\n",
      "Processing city: 139 of 600: bengkulu\n",
      "Processing city: 140 of 600: maningrida\n",
      "Processing city: 141 of 600: mortka\n",
      "Processing city: 142 of 600: odweyne\n",
      "Processing city: 143 of 600: ambodifototra\n",
      "city could not be processed\n",
      "Processing city: 144 of 600: ponta delgada\n",
      "Processing city: 145 of 600: punta arenas\n",
      "Processing city: 146 of 600: sao filipe\n",
      "Processing city: 147 of 600: katsuura\n",
      "Processing city: 148 of 600: armidale\n",
      "Processing city: 149 of 600: russell\n",
      "Processing city: 150 of 600: posadas\n",
      "Processing city: 151 of 600: vao\n",
      "Processing city: 152 of 600: kidal\n",
      "Processing city: 153 of 600: lazaro cardenas\n",
      "Processing city: 154 of 600: mahebourg\n",
      "Processing city: 155 of 600: fethiye\n",
      "Processing city: 156 of 600: mount isa\n",
      "Processing city: 157 of 600: sisimiut\n",
      "Processing city: 158 of 600: powell river\n",
      "Processing city: 159 of 600: sentyabrskiy\n",
      "city could not be processed\n",
      "Processing city: 160 of 600: campoverde\n",
      "Processing city: 161 of 600: cherskiy\n",
      "Processing city: 162 of 600: karpathos\n",
      "Processing city: 163 of 600: dingle\n",
      "Processing city: 164 of 600: portpatrick\n",
      "city could not be processed\n",
      "Processing city: 165 of 600: trincomalee\n",
      "Processing city: 166 of 600: businga\n",
      "Processing city: 167 of 600: atasu\n",
      "Processing city: 168 of 600: xining\n",
      "Processing city: 169 of 600: mersing\n",
      "Processing city: 170 of 600: cabo san lucas\n",
      "Processing city: 171 of 600: flinders\n",
      "Processing city: 172 of 600: qianan\n",
      "Processing city: 173 of 600: tornio\n",
      "Processing city: 174 of 600: oriximina\n",
      "Processing city: 175 of 600: carutapera\n",
      "Processing city: 176 of 600: batagay\n",
      "Processing city: 177 of 600: luena\n",
      "Processing city: 178 of 600: lyskovo\n",
      "Processing city: 179 of 600: los zacatones\n",
      "Processing city: 180 of 600: tazovskiy\n",
      "Processing city: 181 of 600: menongue\n",
      "Processing city: 182 of 600: priargunsk\n",
      "Processing city: 183 of 600: dolores\n",
      "Processing city: 184 of 600: paso de carrasco\n",
      "Processing city: 185 of 600: carnarvon\n",
      "Processing city: 186 of 600: alofi\n",
      "Processing city: 187 of 600: deputatskiy\n",
      "Processing city: 188 of 600: svetlyy\n",
      "Processing city: 189 of 600: oktyabrskoye\n",
      "Processing city: 190 of 600: turukhansk\n",
      "Processing city: 191 of 600: nelson bay\n",
      "Processing city: 192 of 600: roald\n",
      "Processing city: 193 of 600: padang\n",
      "Processing city: 194 of 600: novolabinskaya\n",
      "Processing city: 195 of 600: talnakh\n",
      "Processing city: 196 of 600: husavik\n",
      "Processing city: 197 of 600: torbay\n",
      "Processing city: 198 of 600: juegang\n",
      "Processing city: 199 of 600: tikrit\n",
      "Processing city: 200 of 600: marawi\n",
      "Processing city: 201 of 600: shenzhen\n",
      "Processing city: 202 of 600: burica\n",
      "city could not be processed\n",
      "Processing city: 203 of 600: mundgod\n"
     ]
    },
    {
     "name": "stdout",
     "output_type": "stream",
     "text": [
      "Processing city: 204 of 600: baykit\n",
      "Processing city: 205 of 600: half moon bay\n",
      "Processing city: 206 of 600: belushya guba\n",
      "city could not be processed\n",
      "Processing city: 207 of 600: qaqortoq\n",
      "Processing city: 208 of 600: goundi\n",
      "Processing city: 209 of 600: upernavik\n",
      "Processing city: 210 of 600: lompoc\n",
      "Processing city: 211 of 600: kruisfontein\n",
      "Processing city: 212 of 600: alta floresta\n",
      "Processing city: 213 of 600: petropavlovsk-kamchatskiy\n",
      "Processing city: 214 of 600: ulladulla\n",
      "Processing city: 215 of 600: kavaratti\n",
      "Processing city: 216 of 600: sitka\n",
      "Processing city: 217 of 600: bozdar\n",
      "Processing city: 218 of 600: faanui\n",
      "Processing city: 219 of 600: hermanus\n",
      "Processing city: 220 of 600: tete\n",
      "Processing city: 221 of 600: boquira\n",
      "Processing city: 222 of 600: mormugao\n",
      "Processing city: 223 of 600: vanimo\n",
      "Processing city: 224 of 600: avera\n",
      "Processing city: 225 of 600: qaanaaq\n",
      "Processing city: 226 of 600: trabzon\n",
      "Processing city: 227 of 600: felipe carrillo puerto\n",
      "Processing city: 228 of 600: lorengau\n",
      "Processing city: 229 of 600: imbituba\n",
      "Processing city: 230 of 600: dwarka\n",
      "Processing city: 231 of 600: taburi\n",
      "city could not be processed\n",
      "Processing city: 232 of 600: kassala\n",
      "Processing city: 233 of 600: namibe\n",
      "Processing city: 234 of 600: pucallpa\n",
      "Processing city: 235 of 600: rio do sul\n",
      "Processing city: 236 of 600: pirna\n",
      "Processing city: 237 of 600: cumana\n",
      "Processing city: 238 of 600: camopi\n",
      "Processing city: 239 of 600: port lincoln\n",
      "Processing city: 240 of 600: garowe\n",
      "Processing city: 241 of 600: taber\n",
      "Processing city: 242 of 600: freetown\n",
      "Processing city: 243 of 600: bahia blanca\n",
      "Processing city: 244 of 600: dikson\n",
      "Processing city: 245 of 600: palmer\n",
      "Processing city: 246 of 600: gualeguay\n",
      "Processing city: 247 of 600: hargeysa\n",
      "Processing city: 248 of 600: verkhnyaya inta\n",
      "Processing city: 249 of 600: ribeira grande\n",
      "Processing city: 250 of 600: bambous virieux\n",
      "Processing city: 251 of 600: codrington\n",
      "Processing city: 252 of 600: grand centre\n",
      "city could not be processed\n",
      "Processing city: 253 of 600: saint-joseph\n",
      "Processing city: 254 of 600: san quintin\n",
      "Processing city: 255 of 600: victoria\n",
      "Processing city: 256 of 600: kununurra\n",
      "Processing city: 257 of 600: dolbeau\n",
      "city could not be processed\n",
      "Processing city: 258 of 600: wa\n",
      "city could not be processed\n",
      "Processing city: 259 of 600: manama\n",
      "Processing city: 260 of 600: ancud\n",
      "Processing city: 261 of 600: necochea\n",
      "Processing city: 262 of 600: bur gabo\n",
      "city could not be processed\n",
      "Processing city: 263 of 600: fram\n",
      "Processing city: 264 of 600: piney green\n",
      "Processing city: 265 of 600: acapulco\n",
      "Processing city: 266 of 600: salalah\n",
      "Processing city: 267 of 600: yar-sale\n",
      "Processing city: 268 of 600: romny\n",
      "Processing city: 269 of 600: turayf\n",
      "Processing city: 270 of 600: tabou\n",
      "Processing city: 271 of 600: praia da vitoria\n",
      "Processing city: 272 of 600: coquimbo\n",
      "Processing city: 273 of 600: tabarqah\n",
      "city could not be processed\n",
      "Processing city: 274 of 600: gurupa\n",
      "Processing city: 275 of 600: castro\n",
      "Processing city: 276 of 600: coahuayana\n",
      "Processing city: 277 of 600: beaune\n",
      "Processing city: 278 of 600: prince albert\n",
      "Processing city: 279 of 600: port augusta\n",
      "Processing city: 280 of 600: karratha\n",
      "Processing city: 281 of 600: kazachinskoye\n",
      "Processing city: 282 of 600: gorontalo\n",
      "Processing city: 283 of 600: shizunai\n",
      "Processing city: 284 of 600: nandu\n",
      "Processing city: 285 of 600: rafina\n",
      "Processing city: 286 of 600: virginia beach\n",
      "Processing city: 287 of 600: aguas formosas\n",
      "Processing city: 288 of 600: tawkar\n",
      "city could not be processed\n",
      "Processing city: 289 of 600: hamilton\n",
      "Processing city: 290 of 600: clyde river\n",
      "Processing city: 291 of 600: praia\n",
      "Processing city: 292 of 600: dong hoi\n",
      "Processing city: 293 of 600: mogadishu\n",
      "Processing city: 294 of 600: leningradskiy\n",
      "Processing city: 295 of 600: samalaeulu\n",
      "city could not be processed\n",
      "Processing city: 296 of 600: port victoria\n",
      "Processing city: 297 of 600: tilichiki\n",
      "Processing city: 298 of 600: galle\n",
      "Processing city: 299 of 600: kavieng\n",
      "Processing city: 300 of 600: macau\n",
      "Processing city: 301 of 600: chilliwack\n",
      "Processing city: 302 of 600: vostok\n",
      "Processing city: 303 of 600: douglas\n",
      "Processing city: 304 of 600: nipawin\n",
      "Processing city: 305 of 600: saint george\n",
      "Processing city: 306 of 600: trogir\n",
      "Processing city: 307 of 600: saint-francois\n",
      "Processing city: 308 of 600: bud\n",
      "Processing city: 309 of 600: baruun-urt\n",
      "Processing city: 310 of 600: xichang\n",
      "Processing city: 311 of 600: hualmay\n",
      "Processing city: 312 of 600: paita\n",
      "Processing city: 313 of 600: amderma\n",
      "city could not be processed\n",
      "Processing city: 314 of 600: grand river south east\n",
      "city could not be processed\n",
      "Processing city: 315 of 600: te anau\n",
      "Processing city: 316 of 600: nikolskoye\n",
      "Processing city: 317 of 600: asau\n",
      "Processing city: 318 of 600: shu\n",
      "Processing city: 319 of 600: santa engracia\n",
      "Processing city: 320 of 600: bathsheba\n",
      "Processing city: 321 of 600: daru\n",
      "Processing city: 322 of 600: bom jardim\n",
      "Processing city: 323 of 600: podyuga\n",
      "Processing city: 324 of 600: cayenne\n",
      "Processing city: 325 of 600: tiarei\n",
      "Processing city: 326 of 600: alotau\n",
      "city could not be processed\n",
      "Processing city: 327 of 600: ojinaga\n",
      "Processing city: 328 of 600: townsville\n",
      "Processing city: 329 of 600: grindavik\n",
      "Processing city: 330 of 600: sambava\n",
      "Processing city: 331 of 600: san patricio\n",
      "Processing city: 332 of 600: porbandar\n",
      "Processing city: 333 of 600: la rioja\n",
      "Processing city: 334 of 600: sakaiminato\n",
      "Processing city: 335 of 600: stornoway\n",
      "Processing city: 336 of 600: naryan-mar\n",
      "Processing city: 337 of 600: auki\n",
      "Processing city: 338 of 600: frontera\n",
      "Processing city: 339 of 600: miguelopolis\n",
      "Processing city: 340 of 600: neuquen\n",
      "Processing city: 341 of 600: manutuke\n",
      "Processing city: 342 of 600: toliary\n",
      "city could not be processed\n",
      "Processing city: 343 of 600: minot\n",
      "Processing city: 344 of 600: cabedelo\n",
      "Processing city: 345 of 600: antalaha\n",
      "Processing city: 346 of 600: rawson\n",
      "Processing city: 347 of 600: berdigestyakh\n",
      "Processing city: 348 of 600: gumdag\n",
      "Processing city: 349 of 600: ginir\n",
      "Processing city: 350 of 600: tombouctou\n",
      "Processing city: 351 of 600: coruripe\n",
      "Processing city: 352 of 600: muroto\n",
      "Processing city: 353 of 600: port blair\n",
      "Processing city: 354 of 600: boende\n",
      "Processing city: 355 of 600: tsiroanomandidy\n",
      "Processing city: 356 of 600: khandyga\n",
      "Processing city: 357 of 600: yerky\n",
      "Processing city: 358 of 600: jvari\n",
      "Processing city: 359 of 600: amazar\n",
      "Processing city: 360 of 600: takaka\n",
      "Processing city: 361 of 600: izhma\n",
      "Processing city: 362 of 600: vilyuysk\n",
      "Processing city: 363 of 600: mapiripan\n",
      "Processing city: 364 of 600: mehamn\n",
      "Processing city: 365 of 600: broome\n",
      "Processing city: 366 of 600: maues\n",
      "Processing city: 367 of 600: khorion\n",
      "city could not be processed\n",
      "Processing city: 368 of 600: seligenstadt\n",
      "Processing city: 369 of 600: vermillion\n",
      "Processing city: 370 of 600: sriperumbudur\n",
      "Processing city: 371 of 600: bathurst\n",
      "Processing city: 372 of 600: lasa\n",
      "Processing city: 373 of 600: faya\n",
      "Processing city: 374 of 600: chunoyar\n",
      "Processing city: 375 of 600: shirvan\n",
      "Processing city: 376 of 600: blensong\n",
      "city could not be processed\n",
      "Processing city: 377 of 600: touros\n",
      "Processing city: 378 of 600: tocopilla\n",
      "Processing city: 379 of 600: svetlogorsk\n",
      "Processing city: 380 of 600: ust-ilimsk\n",
      "Processing city: 381 of 600: esfarayen\n",
      "Processing city: 382 of 600: jatara\n",
      "Processing city: 383 of 600: hervey bay\n",
      "Processing city: 384 of 600: kalmunai\n",
      "Processing city: 385 of 600: lesogorsk\n",
      "Processing city: 386 of 600: adrar\n",
      "Processing city: 387 of 600: wulanhaote\n",
      "city could not be processed\n",
      "Processing city: 388 of 600: machali\n",
      "Processing city: 389 of 600: darnah\n",
      "Processing city: 390 of 600: mao\n",
      "Processing city: 391 of 600: namatanai\n",
      "Processing city: 392 of 600: bubaque\n",
      "Processing city: 393 of 600: rabo de peixe\n",
      "Processing city: 394 of 600: jiaojiang\n",
      "Processing city: 395 of 600: linxia\n",
      "Processing city: 396 of 600: warqla\n",
      "city could not be processed\n",
      "Processing city: 397 of 600: pedra azul\n",
      "Processing city: 398 of 600: sibut\n",
      "Processing city: 399 of 600: tumwater\n",
      "Processing city: 400 of 600: ngunguru\n",
      "Processing city: 401 of 600: nara\n",
      "Processing city: 402 of 600: pecos\n",
      "Processing city: 403 of 600: kutum\n",
      "Processing city: 404 of 600: pevek\n",
      "Processing city: 405 of 600: mildura\n",
      "Processing city: 406 of 600: margate\n"
     ]
    },
    {
     "name": "stdout",
     "output_type": "stream",
     "text": [
      "Processing city: 407 of 600: derzhavinsk\n",
      "Processing city: 408 of 600: maceio\n",
      "Processing city: 409 of 600: saint-malo\n",
      "Processing city: 410 of 600: pingliang\n",
      "Processing city: 411 of 600: xinyu\n",
      "Processing city: 412 of 600: imeni poliny osipenko\n",
      "Processing city: 413 of 600: belmonte\n",
      "Processing city: 414 of 600: oum hadjer\n",
      "Processing city: 415 of 600: thinadhoo\n",
      "Processing city: 416 of 600: santa maria\n",
      "Processing city: 417 of 600: dudinka\n",
      "Processing city: 418 of 600: joshimath\n",
      "Processing city: 419 of 600: attawapiskat\n",
      "city could not be processed\n",
      "Processing city: 420 of 600: okitipupa\n",
      "Processing city: 421 of 600: sokoni\n",
      "Processing city: 422 of 600: warmbad\n",
      "Processing city: 423 of 600: ancona\n",
      "Processing city: 424 of 600: cockburn town\n",
      "Processing city: 425 of 600: macaboboni\n",
      "city could not be processed\n",
      "Processing city: 426 of 600: harrismith\n",
      "Processing city: 427 of 600: novomykolayivka\n",
      "Processing city: 428 of 600: richmond\n",
      "Processing city: 429 of 600: scottsbluff\n",
      "Processing city: 430 of 600: polyarnyy\n",
      "Processing city: 431 of 600: mbuji-mayi\n",
      "Processing city: 432 of 600: skotterud\n",
      "Processing city: 433 of 600: altonia\n",
      "city could not be processed\n",
      "Processing city: 434 of 600: mount gambier\n",
      "Processing city: 435 of 600: anadyr\n",
      "Processing city: 436 of 600: soria\n",
      "Processing city: 437 of 600: mys shmidta\n",
      "city could not be processed\n",
      "Processing city: 438 of 600: homer\n",
      "Processing city: 439 of 600: cedar rapids\n",
      "Processing city: 440 of 600: mentok\n",
      "city could not be processed\n",
      "Processing city: 441 of 600: kysyl-syr\n",
      "Processing city: 442 of 600: pisco\n",
      "Processing city: 443 of 600: taoudenni\n",
      "Processing city: 444 of 600: harper\n",
      "Processing city: 445 of 600: concordia\n",
      "Processing city: 446 of 600: ahuimanu\n",
      "Processing city: 447 of 600: iquitos\n",
      "Processing city: 448 of 600: la florida\n",
      "Processing city: 449 of 600: boa vista\n",
      "Processing city: 450 of 600: phuket\n",
      "Processing city: 451 of 600: troy\n",
      "Processing city: 452 of 600: pimentel\n",
      "Processing city: 453 of 600: port hedland\n",
      "Processing city: 454 of 600: sungaipenuh\n",
      "Processing city: 455 of 600: utiroa\n",
      "city could not be processed\n",
      "Processing city: 456 of 600: podosinovets\n",
      "Processing city: 457 of 600: isla mujeres\n",
      "Processing city: 458 of 600: okhotsk\n",
      "Processing city: 459 of 600: barranca\n",
      "Processing city: 460 of 600: huarmey\n",
      "Processing city: 461 of 600: serebryansk\n",
      "Processing city: 462 of 600: vikersund\n",
      "Processing city: 463 of 600: sakakah\n",
      "Processing city: 464 of 600: nanortalik\n",
      "Processing city: 465 of 600: kahului\n",
      "Processing city: 466 of 600: guangyuan\n",
      "Processing city: 467 of 600: plaridel\n",
      "Processing city: 468 of 600: aykhal\n",
      "Processing city: 469 of 600: nadym\n",
      "Processing city: 470 of 600: paharpur\n",
      "Processing city: 471 of 600: kungurtug\n",
      "Processing city: 472 of 600: beringovskiy\n",
      "Processing city: 473 of 600: walvis bay\n",
      "Processing city: 474 of 600: viligili\n",
      "city could not be processed\n",
      "Processing city: 475 of 600: seydi\n",
      "Processing city: 476 of 600: sorland\n",
      "Processing city: 477 of 600: saint-augustin\n",
      "Processing city: 478 of 600: port macquarie\n",
      "Processing city: 479 of 600: okato\n",
      "Processing city: 480 of 600: sioux lookout\n",
      "Processing city: 481 of 600: lata\n",
      "Processing city: 482 of 600: norman wells\n",
      "Processing city: 483 of 600: makaha\n",
      "Processing city: 484 of 600: leshukonskoye\n",
      "Processing city: 485 of 600: milton\n",
      "Processing city: 486 of 600: yulara\n",
      "Processing city: 487 of 600: lae\n",
      "Processing city: 488 of 600: pierre\n",
      "Processing city: 489 of 600: rocha\n",
      "Processing city: 490 of 600: lumby\n",
      "Processing city: 491 of 600: northam\n",
      "Processing city: 492 of 600: escarcega\n",
      "Processing city: 493 of 600: hwange\n",
      "Processing city: 494 of 600: meulaboh\n",
      "Processing city: 495 of 600: san rafael\n",
      "Processing city: 496 of 600: guerrero negro\n",
      "Processing city: 497 of 600: the valley\n",
      "Processing city: 498 of 600: tukrah\n",
      "Processing city: 499 of 600: bossangoa\n",
      "Processing city: 500 of 600: tabory\n",
      "Processing city: 501 of 600: vesele\n",
      "Processing city: 502 of 600: esperance\n",
      "Processing city: 503 of 600: geraldton\n",
      "Processing city: 504 of 600: dubti\n",
      "Processing city: 505 of 600: omboue\n",
      "Processing city: 506 of 600: klaksvik\n",
      "Processing city: 507 of 600: medea\n",
      "Processing city: 508 of 600: diofior\n",
      "Processing city: 509 of 600: luganville\n",
      "Processing city: 510 of 600: wasilla\n",
      "Processing city: 511 of 600: port keats\n",
      "Processing city: 512 of 600: shitanjing\n",
      "Processing city: 513 of 600: ormara\n",
      "Processing city: 514 of 600: qovlar\n",
      "Processing city: 515 of 600: makakilo city\n",
      "Processing city: 516 of 600: kondinskoye\n",
      "Processing city: 517 of 600: maghama\n",
      "city could not be processed\n",
      "Processing city: 518 of 600: dukat\n",
      "Processing city: 519 of 600: bolshaya vishera\n",
      "city could not be processed\n",
      "Processing city: 520 of 600: lodja\n",
      "Processing city: 521 of 600: sola\n",
      "Processing city: 522 of 600: sivaki\n",
      "Processing city: 523 of 600: karasjok\n",
      "Processing city: 524 of 600: talaya\n",
      "Processing city: 525 of 600: palabuhanratu\n",
      "city could not be processed\n",
      "Processing city: 526 of 600: yilan\n",
      "Processing city: 527 of 600: san carlos\n",
      "Processing city: 528 of 600: pacific grove\n",
      "Processing city: 529 of 600: vila velha\n",
      "Processing city: 530 of 600: christchurch\n",
      "Processing city: 531 of 600: gaozhou\n",
      "Processing city: 532 of 600: ila\n",
      "Processing city: 533 of 600: ostrovnoy\n",
      "Processing city: 534 of 600: oussouye\n",
      "Processing city: 535 of 600: casper\n",
      "Processing city: 536 of 600: chumikan\n",
      "Processing city: 537 of 600: verkhnya syrovatka\n",
      "Processing city: 538 of 600: jati\n",
      "Processing city: 539 of 600: kikwit\n",
      "Processing city: 540 of 600: ahipara\n",
      "Processing city: 541 of 600: bicester\n",
      "Processing city: 542 of 600: huanren\n",
      "Processing city: 543 of 600: darhan\n"
     ]
    }
   ],
   "source": [
    "cit_name=[]\n",
    "lat = []\n",
    "lon = []\n",
    "cloudiness = []\n",
    "max_temp = []\n",
    "humidity = []\n",
    "wind_speed = []\n",
    "country = []\n",
    "weather=[]\n",
    "url = \"http://api.openweathermap.org/data/2.5/weather?\"\n",
    "units=\"imperial\"\n",
    "for x in range(len(name_series)):\n",
    "    try:\n",
    "        print(f\"Processing city: {x} of {len(name_series)}: {name_series[x]}\")\n",
    "        response=requests.get(url + \"appid=\" + weather_api_key + \"&q=\" + name_series[x] + \"&units=\" + units).json()\n",
    "        #data=response.json()\n",
    "        cit_name.append(response['name'])\n",
    "        lat.append(response['coord']['lat'])\n",
    "        lon.append(response['coord']['lon'])\n",
    "        cloudiness.append(response['clouds']['all'])\n",
    "        max_temp.append(response['main']['temp_max'])\n",
    "        humidity.append(response['main']['humidity'])\n",
    "        wind_speed.append(response['wind']['speed'])\n",
    "        country.append(response['sys']['country'])\n",
    "        if len(lat)==500:\n",
    "            break\n",
    "        #weather.append(data)\n",
    "    except KeyError:\n",
    "        print('city could not be processed')\n",
    "       \n"
   ]
  },
  {
   "cell_type": "markdown",
   "metadata": {},
   "source": [
    "### Convert Raw Data to DataFrame\n",
    "* Export the city data into a .csv.\n",
    "* Display the DataFrame"
   ]
  },
  {
   "cell_type": "code",
   "execution_count": null,
   "metadata": {},
   "outputs": [],
   "source": []
  },
  {
   "cell_type": "code",
   "execution_count": 5,
   "metadata": {},
   "outputs": [
    {
     "data": {
      "text/plain": [
       "500"
      ]
     },
     "execution_count": 5,
     "metadata": {},
     "output_type": "execute_result"
    }
   ],
   "source": [
    "\n",
    "df=pd.DataFrame({\"City\": cit_name, 'lat': lat, \n",
    "                \"lon\": lon, \"Max Temp\": max_temp, \n",
    "                \"Cloudiness\": cloudiness, \"Humidity\": humidity,\n",
    "                \"Wind speed\": wind_speed, \"Country\": country})\n",
    "df.head()\n",
    "len(df)"
   ]
  },
  {
   "cell_type": "code",
   "execution_count": 41,
   "metadata": {},
   "outputs": [],
   "source": [
    "csvpath=os.path.join('..', 'output', 'Weather_Data')\n",
    "df.to_csv(csvpath)\n"
   ]
  },
  {
   "cell_type": "markdown",
   "metadata": {},
   "source": [
    "## Inspect the data and remove the cities where the humidity > 100%.\n",
    "----\n",
    "Skip this step if there are no cities that have humidity > 100%. "
   ]
  },
  {
   "cell_type": "code",
   "execution_count": null,
   "metadata": {},
   "outputs": [],
   "source": []
  },
  {
   "cell_type": "code",
   "execution_count": 7,
   "metadata": {},
   "outputs": [
    {
     "data": {
      "text/plain": [
       "Series([], Name: Humidity, dtype: int64)"
      ]
     },
     "execution_count": 7,
     "metadata": {},
     "output_type": "execute_result"
    }
   ],
   "source": [
    "#  Get the indices of cities that have humidity over 100%.\n",
    "df['Humidity'].loc[df['Humidity']>100]"
   ]
  },
  {
   "cell_type": "code",
   "execution_count": null,
   "metadata": {},
   "outputs": [],
   "source": [
    "# Make a new DataFrame equal to the city data to drop all humidity outliers by index.\n",
    "# Passing \"inplace=False\" will make a copy of the city_data DataFrame, which we call \"clean_city_data\".\n"
   ]
  },
  {
   "cell_type": "code",
   "execution_count": null,
   "metadata": {},
   "outputs": [],
   "source": [
    "\n"
   ]
  },
  {
   "cell_type": "markdown",
   "metadata": {},
   "source": [
    "## Plotting the Data\n",
    "* Use proper labeling of the plots using plot titles (including date of analysis) and axes labels.\n",
    "* Save the plotted figures as .pngs."
   ]
  },
  {
   "cell_type": "markdown",
   "metadata": {},
   "source": [
    "## Latitude vs. Temperature Plot"
   ]
  },
  {
   "cell_type": "code",
   "execution_count": 9,
   "metadata": {
    "scrolled": true
   },
   "outputs": [
    {
     "data": {
      "image/png": "[encoded data removed]",
      "text/plain": [
       "<Figure size 432x288 with 1 Axes>"
      ]
     },
     "metadata": {
      "needs_background": "light"
     },
     "output_type": "display_data"
    }
   ],
   "source": [
    "plt.scatter(df['lat'], df['Max Temp'])\n",
    "plt.xlabel(\"Latitude\")\n",
    "plt.ylabel(\"Temperature\")\n",
    "plt.title(\"Latitude vs. Temperature\")\n",
    "plt.savefig('../output/temp_plot.png')\n",
    "#this code analyzes the relationship between latitude and maximum temperature by plotting them out from the dataframe."
   ]
  },
  {
   "cell_type": "markdown",
   "metadata": {},
   "source": [
    "## Latitude vs. Humidity Plot"
   ]
  },
  {
   "cell_type": "code",
   "execution_count": 10,
   "metadata": {},
   "outputs": [
    {
     "data": {
      "image/png": "[encoded data removed]",
      "text/plain": [
       "<Figure size 432x288 with 1 Axes>"
      ]
     },
     "metadata": {
      "needs_background": "light"
     },
     "output_type": "display_data"
    }
   ],
   "source": [
    "plt.scatter(df['lat'], df['Humidity'])\n",
    "plt.xlabel(\"Latitude\")\n",
    "plt.ylabel(\"Humidity\")\n",
    "plt.title(\"Latitude vs. Humidity\")\n",
    "plt.savefig('../output/humid_plot.png')\n",
    "#this code analyzes the relationship between latitude and humidity by plotting them out from the dataframe."
   ]
  },
  {
   "cell_type": "markdown",
   "metadata": {},
   "source": [
    "## Latitude vs. Cloudiness Plot"
   ]
  },
  {
   "cell_type": "code",
   "execution_count": 11,
   "metadata": {},
   "outputs": [
    {
     "data": {
      "image/png": "[encoded data removed]",
      "text/plain": [
       "<Figure size 432x288 with 1 Axes>"
      ]
     },
     "metadata": {
      "needs_background": "light"
     },
     "output_type": "display_data"
    }
   ],
   "source": [
    "plt.scatter(df['lat'], df['Cloudiness'])\n",
    "plt.xlabel(\"Latitude\")\n",
    "plt.ylabel(\"Cloudiness\")\n",
    "plt.title(\"Latitude vs. Cloudiness\")\n",
    "plt.savefig('../output/cloud_plot.png')\n",
    "#this code analyzes the relationship between latitude and cloudiness by plotting them out from the dataframe."
   ]
  },
  {
   "cell_type": "markdown",
   "metadata": {},
   "source": [
    "## Latitude vs. Wind Speed Plot"
   ]
  },
  {
   "cell_type": "code",
   "execution_count": 12,
   "metadata": {},
   "outputs": [
    {
     "data": {
      "image/png": "[encoded data removed]",
      "text/plain": [
       "<Figure size 432x288 with 1 Axes>"
      ]
     },
     "metadata": {
      "needs_background": "light"
     },
     "output_type": "display_data"
    }
   ],
   "source": [
    "plt.scatter(df['lat'], df['Wind speed'])\n",
    "plt.xlabel(\"Latitude\")\n",
    "plt.ylabel(\"Wind Speed\")\n",
    "plt.title(\"Latitude vs Wind Speed\")\n",
    "plt.savefig('../output/wind_plot.png')\n",
    "#this code analyzes the relationship between latitude and wind speed by plotting them out from the dataframe."
   ]
  },
  {
   "cell_type": "markdown",
   "metadata": {},
   "source": [
    "## Linear Regression"
   ]
  },
  {
   "cell_type": "code",
   "execution_count": 18,
   "metadata": {},
   "outputs": [
    {
     "data": {
      "text/html": [
       "<div>\n",
       "<style scoped>\n",
       "    .dataframe tbody tr th:only-of-type {\n",
       "        vertical-align: middle;\n",
       "    }\n",
       "\n",
       "    .dataframe tbody tr th {\n",
       "        vertical-align: top;\n",
       "    }\n",
       "\n",
       "    .dataframe thead th {\n",
       "        text-align: right;\n",
       "    }\n",
       "</style>\n",
       "<table border=\"1\" class=\"dataframe\">\n",
       "  <thead>\n",
       "    <tr style=\"text-align: right;\">\n",
       "      <th></th>\n",
       "      <th>City</th>\n",
       "      <th>lat</th>\n",
       "      <th>lon</th>\n",
       "      <th>Max Temp</th>\n",
       "      <th>Cloudiness</th>\n",
       "      <th>Humidity</th>\n",
       "      <th>Wind speed</th>\n",
       "      <th>Country</th>\n",
       "    </tr>\n",
       "  </thead>\n",
       "  <tbody>\n",
       "    <tr>\n",
       "      <th>0</th>\n",
       "      <td>Airai</td>\n",
       "      <td>-8.93</td>\n",
       "      <td>125.41</td>\n",
       "      <td>61.25</td>\n",
       "      <td>58</td>\n",
       "      <td>96</td>\n",
       "      <td>3.33</td>\n",
       "      <td>TL</td>\n",
       "    </tr>\n",
       "    <tr>\n",
       "      <th>1</th>\n",
       "      <td>Ushuaia</td>\n",
       "      <td>-54.80</td>\n",
       "      <td>-68.30</td>\n",
       "      <td>51.80</td>\n",
       "      <td>40</td>\n",
       "      <td>73</td>\n",
       "      <td>5.82</td>\n",
       "      <td>AR</td>\n",
       "    </tr>\n",
       "    <tr>\n",
       "      <th>2</th>\n",
       "      <td>Souillac</td>\n",
       "      <td>-20.52</td>\n",
       "      <td>57.52</td>\n",
       "      <td>75.20</td>\n",
       "      <td>40</td>\n",
       "      <td>88</td>\n",
       "      <td>8.05</td>\n",
       "      <td>MU</td>\n",
       "    </tr>\n",
       "    <tr>\n",
       "      <th>3</th>\n",
       "      <td>Itarema</td>\n",
       "      <td>-2.92</td>\n",
       "      <td>-39.92</td>\n",
       "      <td>87.62</td>\n",
       "      <td>52</td>\n",
       "      <td>52</td>\n",
       "      <td>13.62</td>\n",
       "      <td>BR</td>\n",
       "    </tr>\n",
       "    <tr>\n",
       "      <th>4</th>\n",
       "      <td>Arraial do Cabo</td>\n",
       "      <td>-22.97</td>\n",
       "      <td>-42.03</td>\n",
       "      <td>75.20</td>\n",
       "      <td>75</td>\n",
       "      <td>53</td>\n",
       "      <td>6.93</td>\n",
       "      <td>BR</td>\n",
       "    </tr>\n",
       "    <tr>\n",
       "      <th>...</th>\n",
       "      <td>...</td>\n",
       "      <td>...</td>\n",
       "      <td>...</td>\n",
       "      <td>...</td>\n",
       "      <td>...</td>\n",
       "      <td>...</td>\n",
       "      <td>...</td>\n",
       "      <td>...</td>\n",
       "    </tr>\n",
       "    <tr>\n",
       "      <th>159</th>\n",
       "      <td>Sola</td>\n",
       "      <td>-13.88</td>\n",
       "      <td>167.55</td>\n",
       "      <td>80.22</td>\n",
       "      <td>100</td>\n",
       "      <td>84</td>\n",
       "      <td>22.59</td>\n",
       "      <td>VU</td>\n",
       "    </tr>\n",
       "    <tr>\n",
       "      <th>160</th>\n",
       "      <td>Vila Velha</td>\n",
       "      <td>-20.33</td>\n",
       "      <td>-40.29</td>\n",
       "      <td>75.20</td>\n",
       "      <td>75</td>\n",
       "      <td>64</td>\n",
       "      <td>13.87</td>\n",
       "      <td>BR</td>\n",
       "    </tr>\n",
       "    <tr>\n",
       "      <th>161</th>\n",
       "      <td>Christchurch</td>\n",
       "      <td>-43.53</td>\n",
       "      <td>172.63</td>\n",
       "      <td>57.20</td>\n",
       "      <td>0</td>\n",
       "      <td>62</td>\n",
       "      <td>9.17</td>\n",
       "      <td>NZ</td>\n",
       "    </tr>\n",
       "    <tr>\n",
       "      <th>162</th>\n",
       "      <td>Kikwit</td>\n",
       "      <td>-5.04</td>\n",
       "      <td>18.82</td>\n",
       "      <td>90.10</td>\n",
       "      <td>46</td>\n",
       "      <td>48</td>\n",
       "      <td>3.40</td>\n",
       "      <td>CD</td>\n",
       "    </tr>\n",
       "    <tr>\n",
       "      <th>163</th>\n",
       "      <td>Ahipara</td>\n",
       "      <td>-35.17</td>\n",
       "      <td>173.17</td>\n",
       "      <td>59.81</td>\n",
       "      <td>97</td>\n",
       "      <td>89</td>\n",
       "      <td>8.46</td>\n",
       "      <td>NZ</td>\n",
       "    </tr>\n",
       "  </tbody>\n",
       "</table>\n",
       "<p>164 rows × 8 columns</p>\n",
       "</div>"
      ],
      "text/plain": [
       "                City    lat     lon  Max Temp  Cloudiness  Humidity  \\\n",
       "0              Airai  -8.93  125.41     61.25          58        96   \n",
       "1            Ushuaia -54.80  -68.30     51.80          40        73   \n",
       "2           Souillac -20.52   57.52     75.20          40        88   \n",
       "3            Itarema  -2.92  -39.92     87.62          52        52   \n",
       "4    Arraial do Cabo -22.97  -42.03     75.20          75        53   \n",
       "..               ...    ...     ...       ...         ...       ...   \n",
       "159             Sola -13.88  167.55     80.22         100        84   \n",
       "160       Vila Velha -20.33  -40.29     75.20          75        64   \n",
       "161     Christchurch -43.53  172.63     57.20           0        62   \n",
       "162           Kikwit  -5.04   18.82     90.10          46        48   \n",
       "163          Ahipara -35.17  173.17     59.81          97        89   \n",
       "\n",
       "     Wind speed Country  \n",
       "0          3.33      TL  \n",
       "1          5.82      AR  \n",
       "2          8.05      MU  \n",
       "3         13.62      BR  \n",
       "4          6.93      BR  \n",
       "..          ...     ...  \n",
       "159       22.59      VU  \n",
       "160       13.87      BR  \n",
       "161        9.17      NZ  \n",
       "162        3.40      CD  \n",
       "163        8.46      NZ  \n",
       "\n",
       "[164 rows x 8 columns]"
      ]
     },
     "execution_count": 18,
     "metadata": {},
     "output_type": "execute_result"
    }
   ],
   "source": [
    "north=df.loc[df['lat']>0]\n",
    "north.reset_index(drop=True)\n",
    "south=df.loc[df['lat']<0]\n",
    "south.reset_index(drop=True)"
   ]
  },
  {
   "cell_type": "markdown",
   "metadata": {},
   "source": [
    "####  Northern Hemisphere - Max Temp vs. Latitude Linear Regression"
   ]
  },
  {
   "cell_type": "code",
   "execution_count": 23,
   "metadata": {},
   "outputs": [
    {
     "data": {
      "text/plain": [
       "Text(6, 10, 'y = -0.89x + 95.07')"
      ]
     },
     "execution_count": 23,
     "metadata": {},
     "output_type": "execute_result"
    },
    {
     "data": {
      "image/png": "[encoded data removed]",
      "text/plain": [
       "<Figure size 432x288 with 1 Axes>"
      ]
     },
     "metadata": {
      "needs_background": "light"
     },
     "output_type": "display_data"
    }
   ],
   "source": [
    "\n",
    "plt.xlabel(\"Latitude\")\n",
    "plt.ylabel(\"Temperature\")\n",
    "plt.title(\"Latitude vs. Temperature\")\n",
    "plt.scatter(north['lat'], north['Max Temp'])\n",
    "(slope, intercept, rvalue, pvalue, stderr) = linregress(north['lat'], north['Max Temp'])\n",
    "regress_values = north['lat'] * slope + intercept\n",
    "line_eq = \"y = \" + str(round(slope,2)) + \"x + \" + str(round(intercept,2))\n",
    "plt.plot(north['lat'] ,regress_values, \"r-\")\n",
    "plt.annotate(line_eq,(6,10),fontsize=15,color=\"red\")\n",
    "#as latitude increases past zero the max temperature gets lower"
   ]
  },
  {
   "cell_type": "markdown",
   "metadata": {},
   "source": [
    "####  Southern Hemisphere - Max Temp vs. Latitude Linear Regression"
   ]
  },
  {
   "cell_type": "code",
   "execution_count": 25,
   "metadata": {},
   "outputs": [
    {
     "data": {
      "text/plain": [
       "Text(-30, 60, 'y = 0.77x + 88.23')"
      ]
     },
     "execution_count": 25,
     "metadata": {},
     "output_type": "execute_result"
    },
    {
     "data": {
      "image/png": "[encoded data removed]",
      "text/plain": [
       "<Figure size 432x288 with 1 Axes>"
      ]
     },
     "metadata": {
      "needs_background": "light"
     },
     "output_type": "display_data"
    }
   ],
   "source": [
    "plt.xlabel(\"Latitude\")\n",
    "plt.ylabel(\"Temperature\")\n",
    "plt.title(\"Latitude vs. Temperature\")\n",
    "plt.scatter(south['lat'], south['Max Temp'])\n",
    "(slope, intercept, rvalue, pvalue, stderr) = linregress(south['lat'], south['Max Temp'])\n",
    "regress_values = south['lat'] * slope + intercept\n",
    "line_eq = \"y = \" + str(round(slope,2)) + \"x + \" + str(round(intercept,2))\n",
    "plt.plot(south['lat'] ,regress_values, \"r-\")\n",
    "plt.annotate(line_eq,(-30,60),fontsize=15,color=\"red\")\n",
    "#as the latitude increases from negative to zero, max temperature increases."
   ]
  },
  {
   "cell_type": "markdown",
   "metadata": {},
   "source": [
    "####  Northern Hemisphere - Humidity (%) vs. Latitude Linear Regression"
   ]
  },
  {
   "cell_type": "code",
   "execution_count": 29,
   "metadata": {},
   "outputs": [
    {
     "data": {
      "text/plain": [
       "Text(45, 10, 'y = 0.36x + 58.28')"
      ]
     },
     "execution_count": 29,
     "metadata": {},
     "output_type": "execute_result"
    },
    {
     "data": {
      "image/png": "[encoded data removed]",
      "text/plain": [
       "<Figure size 432x288 with 1 Axes>"
      ]
     },
     "metadata": {
      "needs_background": "light"
     },
     "output_type": "display_data"
    }
   ],
   "source": [
    "plt.scatter(north['lat'], north['Humidity'])\n",
    "plt.xlabel(\"Latitude\")\n",
    "plt.ylabel(\"Humidity\")\n",
    "plt.title(\"Latitude vs. Humidity\")\n",
    "(slope, intercept, rvalue, pvalue, stderr) = linregress(north['lat'], north['Humidity'])\n",
    "regress_values = north['lat'] * slope + intercept\n",
    "line_eq = \"y = \" + str(round(slope,2)) + \"x + \" + str(round(intercept,2))\n",
    "plt.plot(north['lat'] ,regress_values, \"r-\")\n",
    "plt.annotate(line_eq,(45,10),fontsize=15,color=\"red\")\n",
    "#as latitude increases past zero, humidity rises"
   ]
  },
  {
   "cell_type": "markdown",
   "metadata": {},
   "source": [
    "####  Southern Hemisphere - Humidity (%) vs. Latitude Linear Regression"
   ]
  },
  {
   "cell_type": "code",
   "execution_count": 33,
   "metadata": {},
   "outputs": [
    {
     "data": {
      "text/plain": [
       "Text(-55, 40, 'y = -0.12x + 62.79')"
      ]
     },
     "execution_count": 33,
     "metadata": {},
     "output_type": "execute_result"
    },
    {
     "data": {
      "image/png": "[encoded data removed]",
      "text/plain": [
       "<Figure size 432x288 with 1 Axes>"
      ]
     },
     "metadata": {
      "needs_background": "light"
     },
     "output_type": "display_data"
    }
   ],
   "source": [
    "plt.scatter(south['lat'], south['Humidity'])\n",
    "plt.xlabel(\"Latitude\")\n",
    "plt.ylabel(\"Humidity\")\n",
    "plt.title(\"Latitude vs. Humidity\")\n",
    "(slope, intercept, rvalue, pvalue, stderr) = linregress(south['lat'], south['Humidity'])\n",
    "regress_values = south['lat'] * slope + intercept\n",
    "line_eq = \"y = \" + str(round(slope,2)) + \"x + \" + str(round(intercept,2))\n",
    "plt.plot(south['lat'] ,regress_values, \"r-\")\n",
    "plt.annotate(line_eq,(-55,40),fontsize=15,color=\"red\")\n",
    "#as lat approches zero, humidity gradually decreases."
   ]
  },
  {
   "cell_type": "markdown",
   "metadata": {},
   "source": [
    "####  Northern Hemisphere - Cloudiness (%) vs. Latitude Linear Regression"
   ]
  },
  {
   "cell_type": "code",
   "execution_count": 35,
   "metadata": {},
   "outputs": [
    {
     "data": {
      "text/plain": [
       "Text(40, 50, 'y = 0.46x + 34.08')"
      ]
     },
     "execution_count": 35,
     "metadata": {},
     "output_type": "execute_result"
    },
    {
     "data": {
      "image/png": "[encoded data removed]",
      "text/plain": [
       "<Figure size 432x288 with 1 Axes>"
      ]
     },
     "metadata": {
      "needs_background": "light"
     },
     "output_type": "display_data"
    }
   ],
   "source": [
    "plt.scatter(north['lat'], north['Cloudiness'])\n",
    "plt.xlabel(\"Latitude\")\n",
    "plt.ylabel(\"Cloudiness\")\n",
    "plt.title(\"Latitude vs. Cloudiness\")\n",
    "(slope, intercept, rvalue, pvalue, stderr) = linregress(north['lat'], north['Cloudiness'])\n",
    "regress_values = north['lat'] * slope + intercept\n",
    "line_eq = \"y = \" + str(round(slope,2)) + \"x + \" + str(round(intercept,2))\n",
    "plt.plot(north['lat'] ,regress_values, \"r-\")\n",
    "plt.annotate(line_eq,(40,50),fontsize=15,color=\"red\")\n",
    "#as lat increases, cloudiness goes up"
   ]
  },
  {
   "cell_type": "markdown",
   "metadata": {},
   "source": [
    "####  Southern Hemisphere - Cloudiness (%) vs. Latitude Linear Regression"
   ]
  },
  {
   "cell_type": "code",
   "execution_count": 36,
   "metadata": {},
   "outputs": [
    {
     "data": {
      "text/plain": [
       "Text(-30, 60, 'y = 0.38x + 56.72')"
      ]
     },
     "execution_count": 36,
     "metadata": {},
     "output_type": "execute_result"
    },
    {
     "data": {
      "image/png": "[encoded data removed]",
      "text/plain": [
       "<Figure size 432x288 with 1 Axes>"
      ]
     },
     "metadata": {
      "needs_background": "light"
     },
     "output_type": "display_data"
    }
   ],
   "source": [
    "plt.scatter(south['lat'], south['Cloudiness'])\n",
    "plt.xlabel(\"Latitude\")\n",
    "plt.ylabel(\"Cloudiness\")\n",
    "plt.title(\"Latitude vs. Cloudiness\")\n",
    "(slope, intercept, rvalue, pvalue, stderr) = linregress(south['lat'], south['Cloudiness'])\n",
    "regress_values = south['lat'] * slope + intercept\n",
    "line_eq = \"y = \" + str(round(slope,2)) + \"x + \" + str(round(intercept,2))\n",
    "plt.plot(south['lat'] ,regress_values, \"r-\")\n",
    "plt.annotate(line_eq,(-30,60),fontsize=15,color=\"red\")\n",
    "#as lat increases, cloudiness goes up"
   ]
  },
  {
   "cell_type": "markdown",
   "metadata": {},
   "source": [
    "####  Northern Hemisphere - Wind Speed (mph) vs. Latitude Linear Regression"
   ]
  },
  {
   "cell_type": "code",
   "execution_count": 38,
   "metadata": {},
   "outputs": [
    {
     "data": {
      "text/plain": [
       "Text(6, 30, 'y = 0.03x + 7.75')"
      ]
     },
     "execution_count": 38,
     "metadata": {},
     "output_type": "execute_result"
    },
    {
     "data": {
      "image/png": "[encoded data removed]",
      "text/plain": [
       "<Figure size 432x288 with 1 Axes>"
      ]
     },
     "metadata": {
      "needs_background": "light"
     },
     "output_type": "display_data"
    }
   ],
   "source": [
    "plt.scatter(north['lat'], north['Wind speed'])\n",
    "plt.xlabel(\"Latitude\")\n",
    "plt.ylabel(\"Wind Speed\")\n",
    "plt.title(\"Latitude vs Wind Speed\")\n",
    "(slope, intercept, rvalue, pvalue, stderr) = linregress(north['lat'], north['Wind speed'])\n",
    "regress_values = north['lat'] * slope + intercept\n",
    "line_eq = \"y = \" + str(round(slope,2)) + \"x + \" + str(round(intercept,2))\n",
    "plt.plot(north['lat'] ,regress_values, \"r-\")\n",
    "plt.annotate(line_eq,(6,30),fontsize=15,color=\"red\")\n",
    "#as lat increases, wind speed increases slightly"
   ]
  },
  {
   "cell_type": "markdown",
   "metadata": {},
   "source": [
    "####  Southern Hemisphere - Wind Speed (mph) vs. Latitude Linear Regression"
   ]
  },
  {
   "cell_type": "code",
   "execution_count": 40,
   "metadata": {},
   "outputs": [
    {
     "data": {
      "text/plain": [
       "Text(-30, 25, 'y = -0.06x + 7.34')"
      ]
     },
     "execution_count": 40,
     "metadata": {},
     "output_type": "execute_result"
    },
    {
     "data": {
      "image/png": "[encoded data removed]",
      "text/plain": [
       "<Figure size 432x288 with 1 Axes>"
      ]
     },
     "metadata": {
      "needs_background": "light"
     },
     "output_type": "display_data"
    }
   ],
   "source": [
    "plt.scatter(south['lat'], south['Wind speed'])\n",
    "plt.xlabel(\"Latitude\")\n",
    "plt.ylabel(\"Wind Speed\")\n",
    "plt.title(\"Latitude vs Wind Speed\")\n",
    "(slope, intercept, rvalue, pvalue, stderr) = linregress(south['lat'], south['Wind speed'])\n",
    "regress_values = south['lat'] * slope + intercept\n",
    "line_eq = \"y = \" + str(round(slope,2)) + \"x + \" + str(round(intercept,2))\n",
    "plt.plot(south['lat'] ,regress_values, \"r-\")\n",
    "plt.annotate(line_eq,(-30,25),fontsize=15,color=\"red\")\n",
    "#as lat increases, wind speed slightly decreases."
   ]
  },
  {
   "cell_type": "code",
   "execution_count": null,
   "metadata": {},
   "outputs": [],
   "source": []
  },
  {
   "cell_type": "code",
   "execution_count": null,
   "metadata": {},
   "outputs": [],
   "source": []
  }
 ],
 "metadata": {
  "anaconda-cloud": {},
  "kernel_info": {
   "name": "python3"
  },
  "kernelspec": {
   "display_name": "Python 3",
   "language": "python",
   "name": "python3"
  },
  "language_info": {
   "codemirror_mode": {
    "name": "ipython",
    "version": 3
   },
   "file_extension": ".py",
   "mimetype": "text/x-python",
   "name": "python",
   "nbconvert_exporter": "python",
   "pygments_lexer": "ipython3",
   "version": "3.6.10"
  },
  "latex_envs": {
   "LaTeX_envs_menu_present": true,
   "autoclose": false,
   "autocomplete": true,
   "bibliofile": "biblio.bib",
   "cite_by": "apalike",
   "current_citInitial": 1,
   "eqLabelWithNumbers": true,
   "eqNumInitial": 1,
   "hotkeys": {
    "equation": "Ctrl-E",
    "itemize": "Ctrl-I"
   },
   "labels_anchors": false,
   "latex_user_defs": false,
   "report_style_numbering": false,
   "user_envs_cfg": false
  },
  "nteract": {
   "version": "0.12.3"
  }
 },
 "nbformat": 4,
 "nbformat_minor": 2
}
